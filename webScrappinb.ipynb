{
 "cells": [
  {
   "cell_type": "code",
   "execution_count": 3,
   "metadata": {},
   "outputs": [],
   "source": [
    "from bs4 import BeautifulSoup\n",
    "import requests\n",
    "from selenium import webdriver\n",
    "from selenium.common.exceptions import NoSuchElementException\n",
    "import time\n",
    "import pandas as pd\n",
    "from datetime import date\n"
   ]
  },
  {
   "cell_type": "code",
   "execution_count": 6,
   "metadata": {},
   "outputs": [],
   "source": [
    "chrome_driver = \"chromedriver.exe\"\n",
    "browser = webdriver.Chrome()\n",
    "home_link='https://www.ebay.es/'\n",
    "search_kw='iphone x'.replace(' ','+')\n",
    "\n",
    "browser.get(home_link+'sch/i.html?_from=R40&_trksid=p4432023.m570.l1313&_nkw='+search_kw+'&_sacat=0')\n",
    "\n",
    "page= BeautifulSoup(browser.page_source, 'html.parser')\n",
    "\n"
   ]
  },
  {
   "cell_type": "code",
   "execution_count": 23,
   "metadata": {},
   "outputs": [],
   "source": [
    "phones= page.findAll('li',attrs={'class':'s-item', 'data-view':True})\n",
    "phones_title=[]\n",
    "phones_link=[]\n",
    "phones_status=[]\n",
    "phones_score=[]\n",
    "phones_price=[]\n",
    "phone_list=[]\n",
    "\n",
    "for phone in phones:\n",
    "    title=phone.find('div',attrs={'class':'s-item__title'})\n",
    "    if title:\n",
    "        phones_title.append(title.text)\n",
    "    else:\n",
    "        phones_title.append('No title')\n",
    "    link=phone.find('a',attrs={'class':'s-item__link'})\n",
    "    if link:\n",
    "        phones_link.append(link['href'])\n",
    "    else:\n",
    "        phones_link.append('No link')\n",
    "    status=phone.find('span',attrs={'class':'SECONDARY_INFO'})\n",
    "    if status:\n",
    "        phones_status.append(status.text)\n",
    "    else:\n",
    "        phones_status.append('No status')\n",
    "    score=phone.find('div',attrs={'class':'x-star-rating'})\n",
    "    if score:\n",
    "        score=score.find('span',attrs={'class':'clipped'})\n",
    "        if score:\n",
    "            phones_score.append(score.text)\n",
    "        else:\n",
    "            phones_score.append('No score')\n",
    "    else:\n",
    "        phones_score.append('No score')\n",
    "    price=phone.find('span',attrs={'class':'s-item__price'})\n",
    "    if price:\n",
    "        phones_price.append(price.text)\n",
    "    else:\n",
    "         phones_price.append('No price')\n",
    "    next_btn=browser.find_element_by_css_selector('.pagination__next')\n",
    "    next_btn.click()\n",
    "    time.sleep(2)\n",
    "phone_list=pd.DataFrame({'Title':phones_title,\n",
    "                   'Link':phones_link,\n",
    "                   'Status':phones_status,\n",
    "                   'Score':phones_score,\n",
    "                   'Price':phones_price})\n",
    "phone_list.to_csv('phone_list.csv',index=None,header=True,encoding='utf-8-sig')\n",
    "   \n",
    "      "
   ]
  }
 ],
 "metadata": {
  "kernelspec": {
   "display_name": "Python 3",
   "language": "python",
   "name": "python3"
  },
  "language_info": {
   "codemirror_mode": {
    "name": "ipython",
    "version": 3
   },
   "file_extension": ".py",
   "mimetype": "text/x-python",
   "name": "python",
   "nbconvert_exporter": "python",
   "pygments_lexer": "ipython3",
   "version": "3.12.1"
  }
 },
 "nbformat": 4,
 "nbformat_minor": 2
}
