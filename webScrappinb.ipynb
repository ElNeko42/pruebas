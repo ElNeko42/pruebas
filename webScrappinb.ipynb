{
 "cells": [
  {
   "cell_type": "code",
   "execution_count": 27,
   "metadata": {},
   "outputs": [],
   "source": [
    "from bs4 import BeautifulSoup\n",
    "import requests\n",
    "from selenium import webdriver\n",
    "from selenium.common.exceptions import NoSuchElementException\n",
    "import time\n",
    "import pandas as pd\n",
    "from datetime import date\n"
   ]
  },
  {
   "cell_type": "code",
   "execution_count": 28,
   "metadata": {},
   "outputs": [],
   "source": [
    "chrome_driver = \"chromedriver.exe\"\n",
    "browser = webdriver.Chrome()\n",
    "home_link='https://www.ebay.es/'\n",
    "search_kw='iphone x'.replace(' ','+')\n",
    "\n",
    "browser.get(home_link+'sch/i.html?_from=R40&_trksid=p4432023.m570.l1313&_nkw='+search_kw+'&_sacat=0')\n",
    "\n",
    "page= BeautifulSoup(browser.page_source, 'html.parser')\n",
    "\n"
   ]
  },
  {
   "cell_type": "code",
   "execution_count": 29,
   "metadata": {},
   "outputs": [
    {
     "ename": "AttributeError",
     "evalue": "'WebDriver' object has no attribute 'find_element_by_css_selector'",
     "output_type": "error",
     "traceback": [
      "\u001b[1;31m---------------------------------------------------------------------------\u001b[0m",
      "\u001b[1;31mAttributeError\u001b[0m                            Traceback (most recent call last)",
      "Cell \u001b[1;32mIn[29], line 40\u001b[0m\n\u001b[0;32m     38\u001b[0m     \u001b[38;5;28;01melse\u001b[39;00m:\n\u001b[0;32m     39\u001b[0m         phones_price\u001b[38;5;241m.\u001b[39mappend(\u001b[38;5;124m'\u001b[39m\u001b[38;5;124mNo price\u001b[39m\u001b[38;5;124m'\u001b[39m)\n\u001b[1;32m---> 40\u001b[0m next_btn\u001b[38;5;241m=\u001b[39m\u001b[43mbrowser\u001b[49m\u001b[38;5;241;43m.\u001b[39;49m\u001b[43mfind_element_by_css_selector\u001b[49m(\u001b[38;5;124m'\u001b[39m\u001b[38;5;124m.pagination__next\u001b[39m\u001b[38;5;124m'\u001b[39m)\n\u001b[0;32m     41\u001b[0m next_btn\u001b[38;5;241m.\u001b[39mclick()\n\u001b[0;32m     42\u001b[0m time\u001b[38;5;241m.\u001b[39msleep(\u001b[38;5;241m2\u001b[39m)\n",
      "\u001b[1;31mAttributeError\u001b[0m: 'WebDriver' object has no attribute 'find_element_by_css_selector'"
     ]
    }
   ],
   "source": [
    "phones= page.findAll('li',attrs={'class':'s-item', 'data-view':True})\n",
    "phones_title=[]\n",
    "phones_link=[]\n",
    "phones_status=[]\n",
    "phones_score=[]\n",
    "phones_price=[]\n",
    "phone_list=[]\n",
    "pg_amount=5\n",
    "for i in range(pg_amount):\n",
    "    for phone in phones:\n",
    "        title=phone.find('div',attrs={'class':'s-item__title'})\n",
    "        if title:\n",
    "            phones_title.append(title.text)\n",
    "        else:\n",
    "            phones_title.append('No title')\n",
    "        link=phone.find('a',attrs={'class':'s-item__link'})\n",
    "        if link:\n",
    "            phones_link.append(link['href'])\n",
    "        else:\n",
    "            phones_link.append('No link')\n",
    "        status=phone.find('span',attrs={'class':'SECONDARY_INFO'})\n",
    "        if status:\n",
    "            phones_status.append(status.text)\n",
    "        else:\n",
    "            phones_status.append('No status')\n",
    "        score=phone.find('div',attrs={'class':'x-star-rating'})\n",
    "        if score:\n",
    "            score=score.find('span',attrs={'class':'clipped'})\n",
    "            if score:\n",
    "                phones_score.append(score.text)\n",
    "            else:\n",
    "                phones_score.append('No score')\n",
    "        else:\n",
    "            phones_score.append('No score')\n",
    "        price=phone.find('span',attrs={'class':'s-item__price'})\n",
    "        if price:\n",
    "            phones_price.append(price.text)\n",
    "        else:\n",
    "            phones_price.append('No price')\n",
    "    next_btn=browser.find_element_by_css_selector('.pagination__next')\n",
    "    next_btn.click()\n",
    "    time.sleep(2)\n",
    "phone_list=pd.DataFrame({'Title':phones_title,\n",
    "                   'Link':phones_link,\n",
    "                   'Status':phones_status,\n",
    "                   'Score':phones_score,\n",
    "                   'Price':phones_price})\n",
    "phone_list.to_csv('phone_list.csv',index=None,header=True,encoding='utf-8-sig')\n",
    "   \n",
    "      "
   ]
  }
 ],
 "metadata": {
  "kernelspec": {
   "display_name": "Python 3",
   "language": "python",
   "name": "python3"
  },
  "language_info": {
   "codemirror_mode": {
    "name": "ipython",
    "version": 3
   },
   "file_extension": ".py",
   "mimetype": "text/x-python",
   "name": "python",
   "nbconvert_exporter": "python",
   "pygments_lexer": "ipython3",
   "version": "3.12.1"
  }
 },
 "nbformat": 4,
 "nbformat_minor": 2
}
