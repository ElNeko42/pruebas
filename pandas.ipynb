{
 "cells": [
  {
   "cell_type": "code",
   "execution_count": 2,
   "metadata": {},
   "outputs": [],
   "source": [
    "import numpy as np\n",
    "import pandas as pd"
   ]
  },
  {
   "cell_type": "code",
   "execution_count": 6,
   "metadata": {},
   "outputs": [],
   "source": [
    "#crear series en pandas\n",
    "narajas=pd.Series([4,9,6,10,200])\n",
    "manzanas=pd.Series([60,22,1,55,9])\n",
    "colores=pd.Series(['naranja','amarillo','rojo','verde','azul'])\n",
    "\n",
    "materias=pd.Series({'Matematicas':60,'Fisica':22,'Quimica':1,'Biologia':55,'Historia':9})\n",
    "numeros=pd.Series([1,2,3,4,5,6,7,8,9,10])"
   ]
  },
  {
   "cell_type": "code",
   "execution_count": 9,
   "metadata": {},
   "outputs": [
    {
     "data": {
      "text/plain": [
       "dtype('int64')"
      ]
     },
     "execution_count": 9,
     "metadata": {},
     "output_type": "execute_result"
    }
   ],
   "source": [
    "#operaciones con series\n",
    "numeros.dtype #tipo de dato\n",
    "numeros.size #tamaño de la serie\n",
    "numeros.index #rango de la serie\n"
   ]
  },
  {
   "cell_type": "code",
   "execution_count": 13,
   "metadata": {},
   "outputs": [
    {
     "data": {
      "text/plain": [
       "1    amarillo\n",
       "3       verde\n",
       "dtype: object"
      ]
     },
     "execution_count": 13,
     "metadata": {},
     "output_type": "execute_result"
    }
   ],
   "source": [
    "# El slicing en pandas es una técnica que permite seleccionar un subconjunto de datos de una serie o un DataFrame. Se utiliza para extraer filas o columnas específicas de los datos.\n",
    "\n",
    "# En el código que has proporcionado, se muestra el uso del slicing en una serie llamada colores. Veamos cada línea de código:\n",
    "\n",
    "colores[1:4]\n",
    "# Esta línea realiza un slicing en la serie colores y selecciona las filas desde el índice 1\n",
    "# hasta el índice 3 (el índice 4 no está incluido). En otras palabras, se seleccionan las filas en la posición 1, 2 y 3.\n",
    "\n",
    "colores[1:4:2]\n",
    "# Esta línea también realiza un slicing en la serie colores, pero con un paso de 2.\n",
    "# Esto significa que se seleccionan las filas desde el índice 1 hasta el índice 3, pero solo se incluye cada segunda fila. En este caso, se seleccionan las filas en la posición 1 y 3.\n"
   ]
  },
  {
   "cell_type": "code",
   "execution_count": 15,
   "metadata": {},
   "outputs": [
    {
     "data": {
      "text/plain": [
       "Fisica      22\n",
       "Historia     9\n",
       "dtype: int64"
      ]
     },
     "execution_count": 15,
     "metadata": {},
     "output_type": "execute_result"
    }
   ],
   "source": [
    "materias[['Fisica','Historia']]"
   ]
  },
  {
   "cell_type": "code",
   "execution_count": null,
   "metadata": {},
   "outputs": [],
   "source": [
    "#operaciones con series\n",
    "numeros*2\n",
    "numeros/2\n",
    "numeros+2\n",
    "numeros-2\n"
   ]
  }
 ],
 "metadata": {
  "kernelspec": {
   "display_name": "Python 3",
   "language": "python",
   "name": "python3"
  },
  "language_info": {
   "codemirror_mode": {
    "name": "ipython",
    "version": 3
   },
   "file_extension": ".py",
   "mimetype": "text/x-python",
   "name": "python",
   "nbconvert_exporter": "python",
   "pygments_lexer": "ipython3",
   "version": "3.12.1"
  }
 },
 "nbformat": 4,
 "nbformat_minor": 2
}
